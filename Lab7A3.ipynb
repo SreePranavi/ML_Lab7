{
  "cells": [
    {
      "cell_type": "code",
      "execution_count": null,
      "metadata": {
        "colab": {
          "background_save": true,
          "base_uri": "https://localhost:8080/"
        },
        "id": "_IbQfd-0mZzE",
        "outputId": "70373d86-d594-4101-d393-6e47e95fd6d3"
      },
      "outputs": [
        {
          "output_type": "stream",
          "name": "stdout",
          "text": [
            "Performing TF-IDF transformation...\n"
          ]
        }
      ],
      "source": [
        "import pandas as pd\n",
        "from sklearn.model_selection import train_test_split\n",
        "from sklearn.metrics import (\n",
        "    accuracy_score,\n",
        "    precision_score,\n",
        "    recall_score,\n",
        "    f1_score,\n",
        ")\n",
        "from sklearn.svm import SVC\n",
        "from sklearn.tree import DecisionTreeClassifier\n",
        "from sklearn.ensemble import RandomForestClassifier, AdaBoostClassifier\n",
        "from catboost import CatBoostClassifier\n",
        "from xgboost import XGBClassifier\n",
        "from sklearn.naive_bayes import GaussianNB\n",
        "from sklearn.feature_extraction.text import TfidfVectorizer\n",
        "\n",
        "# Function to load the dataset\n",
        "def load_data(file_name):\n",
        "    \"\"\"Load English and Hindi text from the specified Excel file.\"\"\"\n",
        "    data = pd.read_excel(file_name)\n",
        "    return data['ENGLISH'], data['HINDI']\n",
        "\n",
        "# Function to split the data into training and testing sets\n",
        "def split_data(X, y, test_size=0.2, random_state=42):\n",
        "    \"\"\"Split the data into training and testing sets.\"\"\"\n",
        "    return train_test_split(X, y, test_size=test_size, random_state=random_state)\n",
        "\n",
        "# Function to initialize classifiers\n",
        "def initialize_classifiers():\n",
        "    \"\"\"Initialize various classifiers for model evaluation.\"\"\"\n",
        "    return {\n",
        "        'Support Vector Machine': SVC(probability=True),\n",
        "        'Decision Tree': DecisionTreeClassifier(),\n",
        "        'Random Forest': RandomForestClassifier(),\n",
        "        'AdaBoost': AdaBoostClassifier(algorithm='SAMME'),\n",
        "        'CatBoost': CatBoostClassifier(verbose=0),\n",
        "        'XGBoost': XGBClassifier(eval_metric='logloss'),\n",
        "        'Naive Bayes': GaussianNB(),\n",
        "    }\n",
        "\n",
        "# Function to evaluate classifiers and return performance metrics\n",
        "def evaluate_classifiers(classifiers, X_train, X_test, y_train, y_test):\n",
        "    \"\"\"Evaluate classifiers and return their performance metrics.\"\"\"\n",
        "    results = []\n",
        "\n",
        "    for name, clf in classifiers.items():\n",
        "        clf.fit(X_train, y_train)\n",
        "        y_pred = clf.predict(X_test)\n",
        "\n",
        "        # Calculate metrics\n",
        "        accuracy = accuracy_score(y_test, y_pred)\n",
        "        precision = precision_score(y_test, y_pred, average='weighted', zero_division=1)\n",
        "        recall = recall_score(y_test, y_pred, average='weighted', zero_division=1)\n",
        "        f1 = f1_score(y_test, y_pred, average='weighted', zero_division=1)\n",
        "\n",
        "        results.append([name, accuracy * 100, precision * 100, recall * 100, f1 * 100])\n",
        "\n",
        "    return pd.DataFrame(results, columns=['Classifier', 'Accuracy (%)', 'Precision (%)', 'Recall (%)', 'F1 Score (%)'])\n",
        "\n",
        "# Main function to run the code\n",
        "def main():\n",
        "    \"\"\"Main function to load data, preprocess, and evaluate classifiers.\"\"\"\n",
        "    file_name = 'Book1.xlsx'\n",
        "    english_text, hindi_text = load_data(file_name)\n",
        "\n",
        "    # TF-IDF Vectorization\n",
        "    print(\"Performing TF-IDF transformation...\")\n",
        "    tfidf = TfidfVectorizer(max_features=5000)\n",
        "    X_tfidf = tfidf.fit_transform(english_text)\n",
        "\n",
        "    # Split the data\n",
        "    X_train, X_test, y_train, y_test = split_data(X_tfidf, hindi_text)\n",
        "\n",
        "    # Initialize classifiers\n",
        "    classifiers = initialize_classifiers()\n",
        "\n",
        "    # Evaluate classifiers and display results\n",
        "    results_df = evaluate_classifiers(classifiers, X_train, X_test, y_train, y_test)\n",
        "\n",
        "    # Print the results\n",
        "    print(\"Classifier Performance Metrics:\")\n",
        "    print(results_df)\n",
        "\n",
        "\n",
        "if __name__ == \"__main__\":\n",
        "    main()  #\n"
      ]
    }
  ],
  "metadata": {
    "colab": {
      "provenance": []
    },
    "kernelspec": {
      "display_name": "Python 3",
      "name": "python3"
    },
    "language_info": {
      "name": "python"
    }
  },
  "nbformat": 4,
  "nbformat_minor": 0
}